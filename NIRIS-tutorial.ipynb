{
 "cells": [
  {
   "cell_type": "markdown",
   "id": "5fac4b18",
   "metadata": {},
   "source": [
    "# Having fun with Mueller calculus!\n",
    "\n",
    "### In this tutorial you will use Mueller formalism to analyze NIRIS polarization signals\n",
    "\n",
    "\n",
    "----------\n",
    "BBSO Summer School - Day 4 \\\n",
    "Author: Taylor Baildon \\\n",
    "Email: tab57@njit.edu \\\n",
    "Date: Aug. 1, 2024"
   ]
  },
  {
   "cell_type": "markdown",
   "id": "8ed8b177",
   "metadata": {},
   "source": [
    "Make sure you have 'mueller.py' in the same directory as this notebook. This file defines the following Mueller matrices:\n",
    "\n",
    "### Ideal mirror: $ \\,\\,\\,\\begin{bmatrix}\n",
    "1 & 0 & 0 & 0 \\\\\n",
    "0 & 1 & 0 & 0 \\\\\n",
    "0 & 0 & -1 & 0 \\\\\n",
    "0 & 0 & 0 & -1\n",
    "\\end{bmatrix}\\,\\,\\, $ (normal incidence)\n",
    "\n",
    "### Linear polarizer: $ \\,\\,\\,\\dfrac{1}{2}\\begin{bmatrix}\n",
    "1 & \\cos{2\\theta} & \\sin{2\\theta} & 0 \\\\\n",
    "\\cos{2\\theta} & \\cos^2{2\\theta} & \\cos{2\\theta}\\sin{2\\theta} & 0 \\\\\n",
    "\\sin{2\\theta} & \\cos{2\\theta}\\sin{2\\theta} & \\sin^2{2\\theta} & 0 \\\\\n",
    "0 & 0 & 0 & 0\n",
    "\\end{bmatrix}\\,\\,\\, $ transmission axis orientation $ \\theta $\n",
    "\n",
    "### Rotator: $ \\,\\,\\,\\begin{bmatrix}\n",
    "1 & 0 & 0 & 0 \\\\\n",
    "0 & \\cos{2\\alpha} & \\sin{2\\alpha} & 0 \\\\\n",
    "0 & -\\sin{2\\alpha} & \\cos{2\\alpha} & 0 \\\\\n",
    "0 & 0 & 0 & 1\n",
    "\\end{bmatrix}\\,\\,\\, $ rotation angle $ \\alpha $\n",
    "\n",
    "### Retarder: $ \\,\\,\\,\\begin{bmatrix}\n",
    "1 & 0 & 0 & 0 \\\\\n",
    "0 & \\cos^2{2\\theta} + \\sin^2{2\\theta}\\cos{\\delta} & \\cos{2\\theta}\\sin{2\\theta}(1-\\cos{\\delta}) & \\sin{2\\theta}\\sin{\\delta} \\\\\n",
    "0 & \\cos{2\\theta}\\sin{2\\theta}(1-\\cos{\\delta}) & \\sin^2{2\\theta} + \\cos^2{2\\theta}\\cos{\\delta} & -\\cos{2\\theta}\\sin{\\delta} \\\\\n",
    "0 & -\\sin{2\\theta}\\sin{\\delta} & \\cos{2\\theta}\\sin{\\delta} & \\cos{\\delta}\n",
    "\\end{bmatrix}\\,\\,\\, $ \n",
    "### <div style=\"text-align: right\"> retardation $ \\delta $, fast axis orientation $ \\theta $ </div>"
   ]
  },
  {
   "cell_type": "code",
   "execution_count": 206,
   "id": "b9841a7d-a431-4eee-9ea7-0d971906b60b",
   "metadata": {},
   "outputs": [],
   "source": [
    "import numpy as np\n",
    "import matplotlib\n",
    "import matplotlib.pyplot as plt\n",
    "from scipy import integrate\n",
    "import mueller\n",
    "# the following will change the configuration of your Jupyter notebook:\n",
    "matplotlib.rcParams['font.size'] = 18            ## legible font size for matplotlib plots\n",
    "#%config InlineBackend.figure_format = 'retina'   ## clearer figures for retina display (Mac)"
   ]
  },
  {
   "cell_type": "markdown",
   "id": "fa220ec9-3a6c-4980-82bb-277963d10d00",
   "metadata": {},
   "source": [
    "## Start with a Stokes vector for a partially polarized beam\n",
    "Let's see how different optical elements alter the beam"
   ]
  },
  {
   "cell_type": "code",
   "execution_count": 208,
   "id": "b26f489a-6dd6-4acb-bda8-f9c46b4f6c0f",
   "metadata": {},
   "outputs": [
    {
     "name": "stdout",
     "output_type": "stream",
     "text": [
      "we see the U and V polarization components are flipped after reflection at normal incidence: \n",
      "\n",
      "input: [1.  0.2 0.3 0.4] \n",
      "\n",
      "output: [ 1.   0.2 -0.3 -0.4] \n",
      "\n"
     ]
    }
   ],
   "source": [
    "S_in = np.array([1,0.2,0.3,0.4])   # arbitrary polarization\n",
    "\n",
    "# model the beam after it is reflected by an ideal mirror (normal incidence)\n",
    "\n",
    "M_mirror = mueller.ideal_mirror()\n",
    "\n",
    "# note: we are expressing the Stokes parameters as a row vector, \n",
    "# so we will use the transpose of our Mueller matrices in the following calculations\n",
    "S_out = np.transpose(M_mirror) @ S_in\n",
    "\n",
    "print('we see the U and V polarization components are flipped after reflection at normal incidence: \\n')\n",
    "print('input:', S_in, '\\n')\n",
    "print('output:', S_out, '\\n')"
   ]
  },
  {
   "cell_type": "markdown",
   "id": "a5389906-7a23-41bc-95fb-2118e86e0950",
   "metadata": {},
   "source": [
    "### What happens if we tilt the mirror by $45\\degree$?\n",
    "\n",
    "We need to rotate to the mirror frame, and then back to the lab frame after the beam reflects off the mirror:\n",
    "\n",
    "$ S_{\\text{out}} = R^{-1}(\\theta) \\, M_{\\text{mirror}} \\, R(\\theta) \\, S_{\\text{in}}$"
   ]
  },
  {
   "cell_type": "code",
   "execution_count": null,
   "id": "58da1c74-ab64-45be-ae79-132c8921fc0e",
   "metadata": {},
   "outputs": [],
   "source": [
    "# try for yourself: create the Mueller matrix for a rotator using mueller.rotator(theta)\n",
    "# then apply it to the mirror and calculate S_out\n",
    "\n",
    "R = \n",
    "\n",
    "S_out = \n",
    "\n",
    "\n",
    "\n",
    "\n",
    "print('input:', S_in, '\\n')\n",
    "print('output:', S_out, '\\n')\n",
    "\n",
    "# does your output make sense?"
   ]
  },
  {
   "cell_type": "markdown",
   "id": "15c21348-93f1-4664-b5bf-2a48481303d2",
   "metadata": {},
   "source": [
    "### Your turn:\n",
    "\n",
    "Test out how different optical elements alter a Stokes vector:"
   ]
  },
  {
   "cell_type": "code",
   "execution_count": null,
   "id": "0f4b85e3-bfef-48d4-acb6-6717747bd3a8",
   "metadata": {},
   "outputs": [],
   "source": [
    "# your code:\n",
    "\n",
    "S_in = \n",
    "\n",
    "M = \n",
    "\n",
    "S_out = \n",
    "\n",
    "\n",
    "\n",
    "\n",
    "\n",
    "\n",
    "\n"
   ]
  },
  {
   "cell_type": "markdown",
   "id": "9dd64753",
   "metadata": {},
   "source": [
    "## Let's look at how the NIRIS polarization signal is modulated:\n",
    "\n",
    "The mechanically rotating modulator is a waveplate with $ 0.3525\\lambda $ at $ 1564.85 $ nm. What happens when we modulate a linearly polarized signal? (Note: the NIRIS beam is linearly polarized after it is split by a polarizing beam splitter)\n",
    "\n",
    "Fill in parts of this code on your own:"
   ]
  },
  {
   "cell_type": "code",
   "execution_count": null,
   "id": "b3fbe2a1-d7db-4782-bb54-4ebb946412c9",
   "metadata": {},
   "outputs": [],
   "source": [
    "# start with an unpolarized beam:\n",
    "\n",
    "S_in = np.array([1,0,0,0])\n",
    "\n",
    "\n",
    "# ----------------------------------------------------------------------------------------\n",
    "# send the beam through a linear polarizer with horizontal transmission (0 degrees, or +Q)\n",
    "\n",
    "S = \n",
    "\n",
    "\n",
    "\n",
    "# ----------------------------------------------------------------------------------------\n",
    "\n",
    "# modulate the signal by passing it through a rotating waveplate (retarder)\n",
    "\n",
    "delta = np.degrees(-0.3525*2*np.pi)   # retardation of NIRIS modulator (waveplate)\n",
    "theta = np.arange(360)/2              # modulator will rotate through 180 degrees\n",
    "M = mueller.retarder(delta, theta)    # create a Mueller matrix for each angular position of the modulator\n",
    "\n",
    "S_out = []\n",
    "for i in range(len(theta)):\n",
    "    # --------------------------------------------------------------------------------------\n",
    "    # apply the modulator Mueller matrix to the signal S for every position of the modulator\n",
    "\n",
    "    S_out_i = \n",
    "    S_out.append(S_out_i)\n",
    "\n",
    "    # --------------------------------------------------------------------------------------\n",
    "S_out = np.transpose(np.array(S_out))\n",
    "\n",
    "# separate the signals\n",
    "I = S_out[0]\n",
    "Q = S_out[1]\n",
    "U = S_out[2]\n",
    "V = S_out[3]\n",
    "\n",
    "# plot the results\n",
    "plt.figure(figsize=(10,8))\n",
    "plt.plot(theta,Q,label='Q')\n",
    "plt.plot(theta,U,label='U',linestyle='dashed',dashes=(3,3))\n",
    "plt.plot(theta,V,label='V',linestyle='dashed',dashes=(8,8))\n",
    "plt.ylim(-1,1)\n",
    "plt.xlim(0,180)\n",
    "plt.xlabel('Modulator angle (degrees)')\n",
    "plt.legend(fontsize='20',loc='upper left')\n",
    "plt.show()"
   ]
  },
  {
   "cell_type": "markdown",
   "id": "ed316c34",
   "metadata": {},
   "source": [
    "### Notice how Stokes Q and U are modulated at twice the frequency of the modulated Stokes V (above)\n"
   ]
  },
  {
   "cell_type": "markdown",
   "id": "26bd9f3f",
   "metadata": {},
   "source": [
    "### The modulated signal reaching the NIRIS detector is:\n",
    "\n",
    "### $\n",
    "I'' = \\dfrac{1}{2}\\Big(I' + \\dfrac{Q'}{2}\\big((1+\\cos{\\delta}) + (1-\\cos{\\delta})\\cos{4\\theta}\\big) + \\dfrac{U'}{2}(1-\\cos{\\delta})\\sin{4\\theta} - V'\\sin{\\delta}\\sin{2\\theta}\\Big)\n",
    "$\n",
    "\n",
    "where $I',Q',U',V'$ are the Stokes signals after passing through the telescope and NIRIS relay optics. \n",
    "\n",
    "Let's simulate this output with the mueller.py 'modulated_output' function:"
   ]
  },
  {
   "cell_type": "code",
   "execution_count": null,
   "id": "ffd1f5a2",
   "metadata": {},
   "outputs": [],
   "source": [
    "# send a partially polarized beam in:\n",
    "\n",
    "S = np.array([1,0.2,0.1,0.3])  # change this in your testing\n",
    "print('input:', S, '\\n')\n",
    "\n",
    "# find the degree of polarization\n",
    "P_i = mueller.polarization_degree(S)\n",
    "print('degree of polarization:',round(P_i,2), '\\n')\n",
    "\n",
    "S_detector = mueller.modulated_output(S,delta,theta)\n",
    "\n",
    "# plot the result with integration bounds for each frame\n",
    "mueller.plt_signal(S_detector,theta)"
   ]
  },
  {
   "cell_type": "markdown",
   "id": "e2c7bfb0",
   "metadata": {},
   "source": [
    "### Now let's integrate over each frame"
   ]
  },
  {
   "cell_type": "code",
   "execution_count": null,
   "id": "5403e938",
   "metadata": {},
   "outputs": [],
   "source": [
    "# integrate each frame between the bounds (feel free to try different integration methods here)\n",
    "frame_1 = np.sum(S_detector[0:45])/2\n",
    "frame_2 = np.sum(S_detector[45:90])/2 \n",
    "frame_3 = np.sum(S_detector[90:135])/2 \n",
    "frame_4 = np.sum(S_detector[135:180])/2 \n",
    "frame_5 = np.sum(S_detector[180:225])/2 \n",
    "frame_6 = np.sum(S_detector[225:270])/2 \n",
    "frame_7 = np.sum(S_detector[270:315])/2 \n",
    "frame_8 = np.sum(S_detector[315:360])/2 \n",
    "\n",
    "# linear combinations of the frames recover the I, Q, U, V signals\n",
    "I =  frame_1 + frame_2 + frame_3 + frame_4 + frame_5 + frame_6 + frame_7 + frame_8\n",
    "Q =  frame_1 - frame_2 - frame_3 + frame_4 + frame_5 - frame_6 - frame_7 + frame_8\n",
    "U =  frame_1 + frame_2 - frame_3 - frame_4 + frame_5 + frame_6 - frame_7 - frame_8\n",
    "V = -frame_1 - frame_2 - frame_3 - frame_4 + frame_5 + frame_6 + frame_7 + frame_8\n",
    "I = I/2\n",
    "\n",
    "# normalize\n",
    "Q = Q/I\n",
    "U = U/I\n",
    "V = V/I\n",
    "I = 1\n",
    "\n",
    "# the recovered signal:\n",
    "S_recovered = np.array([I,Q,U,V])\n",
    "print('original Stokes signal:', [round(ss,2) for ss in S])\n",
    "print('recovered Stokes signal:', [round(ss,2) for ss in S_recovered], '\\n')\n",
    "\n",
    "P = mueller.polarization_degree(S_recovered)\n",
    "print('original signal degree of polarization:', round(P_i,2))\n",
    "print('recovered signal degree of polarization:', round(P,2), '\\n')\n",
    "\n",
    "percent_error = 100*abs(S - S_recovered)/S\n",
    "print('percent error in I,Q,U,V:', [round(p,2) for p in percent_error], '\\n')"
   ]
  },
  {
   "cell_type": "markdown",
   "id": "c1230441-ec42-4dde-9c93-6e3cca55b0f5",
   "metadata": {},
   "source": [
    "## Use the above code to investigate the accuracy of the recovered Stokes vector\n",
    "\n",
    "### Try using different input vectors:\n",
    "\n",
    "How does the accuracy change with increasing/decreasing input polarization degree?\n",
    "\n",
    "Recall that for NIRIS images of active regions (strong magnetic fields), we perform a second calibration of instrumental crosstalk. Why is this necessary?"
   ]
  },
  {
   "cell_type": "code",
   "execution_count": null,
   "id": "3ece8a02-c15b-4bc6-8405-8e97d2622d33",
   "metadata": {},
   "outputs": [],
   "source": []
  }
 ],
 "metadata": {
  "kernelspec": {
   "display_name": "Python 3 (ipykernel)",
   "language": "python",
   "name": "python3"
  },
  "language_info": {
   "codemirror_mode": {
    "name": "ipython",
    "version": 3
   },
   "file_extension": ".py",
   "mimetype": "text/x-python",
   "name": "python",
   "nbconvert_exporter": "python",
   "pygments_lexer": "ipython3",
   "version": "3.12.4"
  }
 },
 "nbformat": 4,
 "nbformat_minor": 5
}
